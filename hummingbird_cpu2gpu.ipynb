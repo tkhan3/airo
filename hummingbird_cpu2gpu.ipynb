{
  "nbformat": 4,
  "nbformat_minor": 0,
  "metadata": {
    "colab": {
      "name": "hummingbird_cpu2gpu.ipynb",
      "provenance": [],
      "authorship_tag": "ABX9TyPJpG4tUsK1kJjLBsjI0HAP",
      "include_colab_link": true
    },
    "kernelspec": {
      "name": "python3",
      "display_name": "Python 3"
    },
    "accelerator": "GPU"
  },
  "cells": [
    {
      "cell_type": "markdown",
      "metadata": {
        "id": "view-in-github",
        "colab_type": "text"
      },
      "source": [
        "<a href=\"https://colab.research.google.com/github/tkhan3/airo/blob/master/hummingbird_cpu2gpu.ipynb\" target=\"_parent\"><img src=\"https://colab.research.google.com/assets/colab-badge.svg\" alt=\"Open In Colab\"/></a>"
      ]
    },
    {
      "cell_type": "code",
      "metadata": {
        "id": "YQkVN_7mGf2t",
        "outputId": "972c5770-625f-484f-d7a4-5f546a67ca1f",
        "colab": {
          "base_uri": "https://localhost:8080/",
          "height": 431
        }
      },
      "source": [
        "!pip install hummingbird-ml"
      ],
      "execution_count": 3,
      "outputs": [
        {
          "output_type": "stream",
          "text": [
            "Collecting hummingbird-ml\n",
            "\u001b[?25l  Downloading https://files.pythonhosted.org/packages/5f/38/53a2b62c0dbaf46eb533dbd5420bd64eccaf48fc380d36a86fd93242f1ca/hummingbird_ml-0.0.6-py2.py3-none-any.whl (77kB)\n",
            "\r\u001b[K     |████▏                           | 10kB 10.4MB/s eta 0:00:01\r\u001b[K     |████████▍                       | 20kB 1.8MB/s eta 0:00:01\r\u001b[K     |████████████▋                   | 30kB 2.3MB/s eta 0:00:01\r\u001b[K     |████████████████▉               | 40kB 2.5MB/s eta 0:00:01\r\u001b[K     |█████████████████████           | 51kB 2.0MB/s eta 0:00:01\r\u001b[K     |█████████████████████████▎      | 61kB 2.3MB/s eta 0:00:01\r\u001b[K     |█████████████████████████████▍  | 71kB 2.6MB/s eta 0:00:01\r\u001b[K     |████████████████████████████████| 81kB 2.1MB/s \n",
            "\u001b[?25hRequirement already satisfied: numpy>=1.15 in /usr/local/lib/python3.6/dist-packages (from hummingbird-ml) (1.18.5)\n",
            "Requirement already satisfied: scikit-learn>=0.21.3 in /usr/local/lib/python3.6/dist-packages (from hummingbird-ml) (0.22.2.post1)\n",
            "Requirement already satisfied: torch>=1.4.* in /usr/local/lib/python3.6/dist-packages (from hummingbird-ml) (1.6.0+cu101)\n",
            "Collecting onnxconverter-common>=1.6.0\n",
            "\u001b[?25l  Downloading https://files.pythonhosted.org/packages/fe/7a/7e30c643cd7d2ad87689188ef34ce93e657bd14da3605f87bcdbc19cd5b1/onnxconverter_common-1.7.0-py2.py3-none-any.whl (64kB)\n",
            "\u001b[K     |████████████████████████████████| 71kB 5.8MB/s \n",
            "\u001b[?25hRequirement already satisfied: scipy>=0.17.0 in /usr/local/lib/python3.6/dist-packages (from scikit-learn>=0.21.3->hummingbird-ml) (1.4.1)\n",
            "Requirement already satisfied: joblib>=0.11 in /usr/local/lib/python3.6/dist-packages (from scikit-learn>=0.21.3->hummingbird-ml) (0.16.0)\n",
            "Requirement already satisfied: future in /usr/local/lib/python3.6/dist-packages (from torch>=1.4.*->hummingbird-ml) (0.16.0)\n",
            "Requirement already satisfied: protobuf in /usr/local/lib/python3.6/dist-packages (from onnxconverter-common>=1.6.0->hummingbird-ml) (3.12.4)\n",
            "Collecting onnx\n",
            "\u001b[?25l  Downloading https://files.pythonhosted.org/packages/36/ee/bc7bc88fc8449266add978627e90c363069211584b937fd867b0ccc59f09/onnx-1.7.0-cp36-cp36m-manylinux1_x86_64.whl (7.4MB)\n",
            "\u001b[K     |████████████████████████████████| 7.4MB 26.2MB/s \n",
            "\u001b[?25hRequirement already satisfied: six>=1.9 in /usr/local/lib/python3.6/dist-packages (from protobuf->onnxconverter-common>=1.6.0->hummingbird-ml) (1.15.0)\n",
            "Requirement already satisfied: setuptools in /usr/local/lib/python3.6/dist-packages (from protobuf->onnxconverter-common>=1.6.0->hummingbird-ml) (50.3.0)\n",
            "Requirement already satisfied: typing-extensions>=3.6.2.1 in /usr/local/lib/python3.6/dist-packages (from onnx->onnxconverter-common>=1.6.0->hummingbird-ml) (3.7.4.3)\n",
            "Installing collected packages: onnx, onnxconverter-common, hummingbird-ml\n",
            "Successfully installed hummingbird-ml-0.0.6 onnx-1.7.0 onnxconverter-common-1.7.0\n"
          ],
          "name": "stdout"
        }
      ]
    },
    {
      "cell_type": "markdown",
      "metadata": {
        "id": "gvESUUsBGudY"
      },
      "source": [
        "Create a fake dataset for a classification problem. Our dataset 50 variables with 100000 records in 3 classes.\n",
        "\n",
        "Randomforest Classifier from Scikit-learn will be trained using this data."
      ]
    },
    {
      "cell_type": "code",
      "metadata": {
        "id": "FEzKU4KtfDGo"
      },
      "source": [
        "import numpy as np\n",
        "np.random.seed(42 )"
      ],
      "execution_count": 15,
      "outputs": []
    },
    {
      "cell_type": "code",
      "metadata": {
        "id": "N409SSv0GpCW",
        "outputId": "7f23290a-7c8a-40fc-c391-caf1b9658194",
        "colab": {
          "base_uri": "https://localhost:8080/",
          "height": 167
        }
      },
      "source": [
        "from sklearn.ensemble import RandomForestClassifier\n",
        "num_classes = 3\n",
        "X = np.random.rand(100000, 50)\n",
        "y = np.random.randint(num_classes, size=100000)\n",
        "randomForestCPU = RandomForestClassifier(n_estimators=10, max_depth=10)\n",
        "randomForestCPU.fit(X, y)"
      ],
      "execution_count": 17,
      "outputs": [
        {
          "output_type": "execute_result",
          "data": {
            "text/plain": [
              "RandomForestClassifier(bootstrap=True, ccp_alpha=0.0, class_weight=None,\n",
              "                       criterion='gini', max_depth=10, max_features='auto',\n",
              "                       max_leaf_nodes=None, max_samples=None,\n",
              "                       min_impurity_decrease=0.0, min_impurity_split=None,\n",
              "                       min_samples_leaf=1, min_samples_split=2,\n",
              "                       min_weight_fraction_leaf=0.0, n_estimators=10,\n",
              "                       n_jobs=None, oob_score=False, random_state=None,\n",
              "                       verbose=0, warm_start=False)"
            ]
          },
          "metadata": {
            "tags": []
          },
          "execution_count": 17
        }
      ]
    },
    {
      "cell_type": "code",
      "metadata": {
        "id": "RZ9dX7biHR-M",
        "outputId": "f22bad0b-262e-49b0-c78b-0b6b0ed9c90c",
        "colab": {
          "base_uri": "https://localhost:8080/",
          "height": 36
        }
      },
      "source": [
        "%%timeit\n",
        "randomForestCPU.predict_proba(X)"
      ],
      "execution_count": 18,
      "outputs": [
        {
          "output_type": "stream",
          "text": [
            "10 loops, best of 3: 99.1 ms per loop\n"
          ],
          "name": "stdout"
        }
      ]
    },
    {
      "cell_type": "code",
      "metadata": {
        "id": "pZ4-IgswgaFu"
      },
      "source": [
        "y_cpu = randomForestCPU.predict(X)"
      ],
      "execution_count": 34,
      "outputs": []
    },
    {
      "cell_type": "code",
      "metadata": {
        "id": "ss6jsz0GHR_y"
      },
      "source": [
        "from hummingbird.ml import convert\n",
        "# Use Hummingbird to convert the model to PyTorch\n",
        "randomForestGPU = convert(randomForestCPU, 'pytorch')\n",
        "randomForestGPU.to('cuda')"
      ],
      "execution_count": 19,
      "outputs": []
    },
    {
      "cell_type": "code",
      "metadata": {
        "id": "mSgfQKb3HtPv",
        "outputId": "e4e64807-97b4-4cb8-a71d-98de5721f675",
        "colab": {
          "base_uri": "https://localhost:8080/",
          "height": 36
        }
      },
      "source": [
        "%%timeit\n",
        "randomForestGPU.predict_proba(X)"
      ],
      "execution_count": 23,
      "outputs": [
        {
          "output_type": "stream",
          "text": [
            "10 loops, best of 3: 20.5 ms per loop\n"
          ],
          "name": "stdout"
        }
      ]
    },
    {
      "cell_type": "code",
      "metadata": {
        "id": "eGWYhXOVgeDl"
      },
      "source": [
        "y_gpu = randomForestGPU.predict(X)\n",
        "y_cpu = randomForestCPU.predict(X)"
      ],
      "execution_count": 41,
      "outputs": []
    },
    {
      "cell_type": "code",
      "metadata": {
        "id": "nrN2DY2GgJ6M",
        "outputId": "e295c312-b6d1-4ec2-ba37-22fd9c0cba02",
        "colab": {
          "base_uri": "https://localhost:8080/",
          "height": 36
        }
      },
      "source": [
        "if False in np.equal(y_gpu,y_cpu).tolist():\n",
        "  print (\"prediction mismatched\")\n",
        "else:\n",
        "  print (\"prediction matched\")"
      ],
      "execution_count": 42,
      "outputs": [
        {
          "output_type": "stream",
          "text": [
            "prediction matched\n"
          ],
          "name": "stdout"
        }
      ]
    },
    {
      "cell_type": "code",
      "metadata": {
        "id": "dwGPbU2tcDNT",
        "outputId": "fc0953bd-c34a-4c84-bc94-34414a59058b",
        "colab": {
          "base_uri": "https://localhost:8080/",
          "height": 111
        }
      },
      "source": [
        "from sklearn.linear_model import LogisticRegression\n",
        "num_classes = 3\n",
        "X = np.random.rand(100000, 50)\n",
        "y = np.random.randint(num_classes, size=100000)\n",
        "LogisticRegressionCPU = LogisticRegression(random_state=42)\n",
        "LogisticRegressionCPU.fit(X, y)"
      ],
      "execution_count": 8,
      "outputs": [
        {
          "output_type": "execute_result",
          "data": {
            "text/plain": [
              "LogisticRegression(C=1.0, class_weight=None, dual=False, fit_intercept=True,\n",
              "                   intercept_scaling=1, l1_ratio=None, max_iter=100,\n",
              "                   multi_class='auto', n_jobs=None, penalty='l2',\n",
              "                   random_state=42, solver='lbfgs', tol=0.0001, verbose=0,\n",
              "                   warm_start=False)"
            ]
          },
          "metadata": {
            "tags": []
          },
          "execution_count": 8
        }
      ]
    },
    {
      "cell_type": "code",
      "metadata": {
        "id": "XWyWK50ndz4s",
        "outputId": "718cd901-a8b1-431d-a062-d1dadb1d8d0b",
        "colab": {
          "base_uri": "https://localhost:8080/",
          "height": 36
        }
      },
      "source": [
        "%%timeit\n",
        "LogisticRegressionCPU.predict_proba(X)"
      ],
      "execution_count": 13,
      "outputs": [
        {
          "output_type": "stream",
          "text": [
            "10 loops, best of 3: 36.8 ms per loop\n"
          ],
          "name": "stdout"
        }
      ]
    },
    {
      "cell_type": "code",
      "metadata": {
        "id": "p2h0ZLY9d836"
      },
      "source": [
        "from hummingbird.ml import convert\n",
        "# Use Hummingbird to convert the model to PyTorch\n",
        "LogisticRegressionGPU = convert(LogisticRegressionCPU, 'pytorch')\n",
        "LogisticRegressionGPU.to('cuda')"
      ],
      "execution_count": 10,
      "outputs": []
    },
    {
      "cell_type": "code",
      "metadata": {
        "id": "m1xbcrb8eEO1",
        "outputId": "4ea81905-4b7c-49bc-fced-b9bda5026a89",
        "colab": {
          "base_uri": "https://localhost:8080/",
          "height": 36
        }
      },
      "source": [
        "%%timeit\n",
        "LogisticRegressionGPU.predict_proba(X)"
      ],
      "execution_count": 12,
      "outputs": [
        {
          "output_type": "stream",
          "text": [
            "100 loops, best of 3: 11.4 ms per loop\n"
          ],
          "name": "stdout"
        }
      ]
    }
  ]
}