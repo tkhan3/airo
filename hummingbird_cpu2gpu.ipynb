{
  "nbformat": 4,
  "nbformat_minor": 0,
  "metadata": {
    "colab": {
      "name": "hummingbird_cpu2gpu.ipynb",
      "provenance": [],
      "authorship_tag": "ABX9TyOGVuO6N7sZrzQeyAastQFQ",
      "include_colab_link": true
    },
    "kernelspec": {
      "name": "python3",
      "display_name": "Python 3"
    },
    "accelerator": "GPU"
  },
  "cells": [
    {
      "cell_type": "markdown",
      "metadata": {
        "id": "view-in-github",
        "colab_type": "text"
      },
      "source": [
        "<a href=\"https://colab.research.google.com/github/tkhan3/airo/blob/master/hummingbird_cpu2gpu.ipynb\" target=\"_parent\"><img src=\"https://colab.research.google.com/assets/colab-badge.svg\" alt=\"Open In Colab\"/></a>"
      ]
    },
    {
      "cell_type": "code",
      "metadata": {
        "id": "YQkVN_7mGf2t",
        "outputId": "f4d5b09d-93f0-4a8f-df0f-db5faf8340e9",
        "colab": {
          "base_uri": "https://localhost:8080/",
          "height": 431
        }
      },
      "source": [
        "!pip install hummingbird-ml"
      ],
      "execution_count": 1,
      "outputs": [
        {
          "output_type": "stream",
          "text": [
            "Collecting hummingbird-ml\n",
            "\u001b[?25l  Downloading https://files.pythonhosted.org/packages/5f/38/53a2b62c0dbaf46eb533dbd5420bd64eccaf48fc380d36a86fd93242f1ca/hummingbird_ml-0.0.6-py2.py3-none-any.whl (77kB)\n",
            "\u001b[K     |████████████████████████████████| 81kB 2.3MB/s \n",
            "\u001b[?25hRequirement already satisfied: numpy>=1.15 in /usr/local/lib/python3.6/dist-packages (from hummingbird-ml) (1.18.5)\n",
            "Requirement already satisfied: torch>=1.4.* in /usr/local/lib/python3.6/dist-packages (from hummingbird-ml) (1.6.0+cu101)\n",
            "Collecting onnxconverter-common>=1.6.0\n",
            "\u001b[?25l  Downloading https://files.pythonhosted.org/packages/fe/7a/7e30c643cd7d2ad87689188ef34ce93e657bd14da3605f87bcdbc19cd5b1/onnxconverter_common-1.7.0-py2.py3-none-any.whl (64kB)\n",
            "\u001b[K     |████████████████████████████████| 71kB 7.4MB/s \n",
            "\u001b[?25hRequirement already satisfied: scikit-learn>=0.21.3 in /usr/local/lib/python3.6/dist-packages (from hummingbird-ml) (0.22.2.post1)\n",
            "Requirement already satisfied: future in /usr/local/lib/python3.6/dist-packages (from torch>=1.4.*->hummingbird-ml) (0.16.0)\n",
            "Collecting onnx\n",
            "\u001b[?25l  Downloading https://files.pythonhosted.org/packages/36/ee/bc7bc88fc8449266add978627e90c363069211584b937fd867b0ccc59f09/onnx-1.7.0-cp36-cp36m-manylinux1_x86_64.whl (7.4MB)\n",
            "\u001b[K     |████████████████████████████████| 7.4MB 19.0MB/s \n",
            "\u001b[?25hRequirement already satisfied: protobuf in /usr/local/lib/python3.6/dist-packages (from onnxconverter-common>=1.6.0->hummingbird-ml) (3.12.4)\n",
            "Requirement already satisfied: scipy>=0.17.0 in /usr/local/lib/python3.6/dist-packages (from scikit-learn>=0.21.3->hummingbird-ml) (1.4.1)\n",
            "Requirement already satisfied: joblib>=0.11 in /usr/local/lib/python3.6/dist-packages (from scikit-learn>=0.21.3->hummingbird-ml) (0.16.0)\n",
            "Requirement already satisfied: typing-extensions>=3.6.2.1 in /usr/local/lib/python3.6/dist-packages (from onnx->onnxconverter-common>=1.6.0->hummingbird-ml) (3.7.4.3)\n",
            "Requirement already satisfied: six in /usr/local/lib/python3.6/dist-packages (from onnx->onnxconverter-common>=1.6.0->hummingbird-ml) (1.15.0)\n",
            "Requirement already satisfied: setuptools in /usr/local/lib/python3.6/dist-packages (from protobuf->onnxconverter-common>=1.6.0->hummingbird-ml) (50.3.0)\n",
            "Installing collected packages: onnx, onnxconverter-common, hummingbird-ml\n",
            "Successfully installed hummingbird-ml-0.0.6 onnx-1.7.0 onnxconverter-common-1.7.0\n"
          ],
          "name": "stdout"
        }
      ]
    },
    {
      "cell_type": "markdown",
      "metadata": {
        "id": "gvESUUsBGudY"
      },
      "source": [
        "Create a fake dataset for a classification problem. Our dataset 50 variables with 100000 records in 3 classes.\n",
        "\n",
        "Randomforest Classifier from Scikit-learn will be trained using this data."
      ]
    },
    {
      "cell_type": "code",
      "metadata": {
        "id": "N409SSv0GpCW",
        "outputId": "b67ffe30-334c-4efe-b7c5-a215cb837f52",
        "colab": {
          "base_uri": "https://localhost:8080/",
          "height": 167
        }
      },
      "source": [
        "import numpy as np\n",
        "from sklearn.ensemble import RandomForestClassifier\n",
        "num_classes = 3\n",
        "X = np.random.rand(100000, 50)\n",
        "y = np.random.randint(num_classes, size=100000)\n",
        "randomForestCPU = RandomForestClassifier(n_estimators=10, max_depth=10)\n",
        "randomForestCPU.fit(X, y)"
      ],
      "execution_count": 2,
      "outputs": [
        {
          "output_type": "execute_result",
          "data": {
            "text/plain": [
              "RandomForestClassifier(bootstrap=True, ccp_alpha=0.0, class_weight=None,\n",
              "                       criterion='gini', max_depth=10, max_features='auto',\n",
              "                       max_leaf_nodes=None, max_samples=None,\n",
              "                       min_impurity_decrease=0.0, min_impurity_split=None,\n",
              "                       min_samples_leaf=1, min_samples_split=2,\n",
              "                       min_weight_fraction_leaf=0.0, n_estimators=10,\n",
              "                       n_jobs=None, oob_score=False, random_state=None,\n",
              "                       verbose=0, warm_start=False)"
            ]
          },
          "metadata": {
            "tags": []
          },
          "execution_count": 2
        }
      ]
    },
    {
      "cell_type": "code",
      "metadata": {
        "id": "RZ9dX7biHR-M",
        "outputId": "fba2fbc3-2ccf-4286-ea67-78b96160aa90",
        "colab": {
          "base_uri": "https://localhost:8080/",
          "height": 36
        }
      },
      "source": [
        "%%timeit\n",
        "randomForestCPU.predict_proba(X)"
      ],
      "execution_count": 3,
      "outputs": [
        {
          "output_type": "stream",
          "text": [
            "10 loops, best of 3: 95.7 ms per loop\n"
          ],
          "name": "stdout"
        }
      ]
    },
    {
      "cell_type": "code",
      "metadata": {
        "id": "ss6jsz0GHR_y"
      },
      "source": [
        "from hummingbird.ml import convert\n",
        "# Use Hummingbird to convert the model to PyTorch\n",
        "randomForestGPU = convert(randomForestCPU, 'pytorch')\n",
        "randomForestGPU.to('cuda')"
      ],
      "execution_count": 7,
      "outputs": []
    },
    {
      "cell_type": "code",
      "metadata": {
        "id": "mSgfQKb3HtPv",
        "outputId": "3e567398-9a67-4e42-e52e-35ba9d728686",
        "colab": {
          "base_uri": "https://localhost:8080/",
          "height": 75
        }
      },
      "source": [
        "%%timeit\n",
        "randomForestGPU.predict_proba(X)"
      ],
      "execution_count": 10,
      "outputs": [
        {
          "output_type": "stream",
          "text": [
            "The slowest run took 8.76 times longer than the fastest. This could mean that an intermediate result is being cached.\n",
            "100 loops, best of 3: 12.6 ms per loop\n"
          ],
          "name": "stdout"
        }
      ]
    }
  ]
}